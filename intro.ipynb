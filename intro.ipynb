{
 "cells": [
  {
   "cell_type": "markdown",
   "metadata": {},
   "source": [
    "# Welcome!"
   ]
  },
  {
   "cell_type": "markdown",
   "metadata": {},
   "source": [
    "Hello and welcome everyone to the introduction page for creating interactive content with \"Jupyter Books\"!\n",
    "\n",
    "As you read through the subsections of this website, you will gain insight on how to quickly create beatiful, easy-to-deploy and interactive content. While this tutorial was created with the goal of an integrated framework for digital education at Goethe University, this doesn't limit the content to members of Goethe University: We utilize free, open-source software available to anyone.\n",
    "We believe that education should be available to as many people as possible, which is why diversity and accessiblity played major roles during the creation of this tutorial.\n"
   ]
  },
  {
   "cell_type": "markdown",
   "metadata": {},
   "source": [
    "## Digital Literacy\n",
    "With the surge of progressively more available and interconnected data, *Digital Literacy* has become a skill integral in teaching, science, and everyday life. Digital Literacy is a term describing competencies of using modern information technology, managing information, thinking critically, and selecting and applicating these reasonably\n",
    "(Tang et al., 2016). These skills are not only relevant due to the increasing levels of complexity of science, limited access to resources, and intransparencies of digital infrastructures, but also nessessary for independent emperical research.\n",
    "Classic educational concepts are oftentimes not sufficiently equipped to convey what digital literacy entails.\n",
    "\n",
    "This project has the goal to better enable course instructors to leverage the benefits of interactive, flexible and open-source ressources in teaching students independent and self-regulated work based on real emperical data.\n",
    "\n",
    "##\n"
   ]
  }
 ],
 "metadata": {
  "kernelspec": {
   "display_name": "Python 3 (ipykernel)",
   "language": "python",
   "name": "python3"
  },
  "language_info": {
   "codemirror_mode": {
    "name": "ipython",
    "version": 3
   },
   "file_extension": ".py",
   "mimetype": "text/x-python",
   "name": "python",
   "nbconvert_exporter": "python",
   "pygments_lexer": "ipython3",
   "version": "3.7.6"
  },
  "widgets": {
   "application/vnd.jupyter.widget-state+json": {
    "state": {},
    "version_major": 2,
    "version_minor": 0
   }
  }
 },
 "nbformat": 4,
 "nbformat_minor": 4
}
