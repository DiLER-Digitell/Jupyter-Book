{
 "cells": [
  {
   "cell_type": "markdown",
   "id": "2d201d42",
   "metadata": {},
   "source": [
    "# Why should you use Jupyter Books?"
   ]
  },
  {
   "cell_type": "markdown",
   "id": "4521f47e",
   "metadata": {},
   "source": [
    "There are countless ways of building a website, putting out content and deploying it on the web: If people want to publish videos they tend to go to Youtube or TikTok, for text they might send around slides or PDFs.\n",
    "\n",
    "Jupyter Book allows for an integration of various media types including Markdown/ text, slides, Images, videos, interactive code and more! plus "
   ]
  }
 ],
 "metadata": {
  "kernelspec": {
   "display_name": "Python 3 (ipykernel)",
   "language": "python",
   "name": "python3"
  },
  "language_info": {
   "codemirror_mode": {
    "name": "ipython",
    "version": 3
   },
   "file_extension": ".py",
   "mimetype": "text/x-python",
   "name": "python",
   "nbconvert_exporter": "python",
   "pygments_lexer": "ipython3",
   "version": "3.8.10"
  }
 },
 "nbformat": 4,
 "nbformat_minor": 5
}
