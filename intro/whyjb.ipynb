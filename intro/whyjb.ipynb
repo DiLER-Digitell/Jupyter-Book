{
 "cells": [
  {
   "cell_type": "markdown",
   "id": "2d201d42",
   "metadata": {},
   "source": [
    "# Why should you use Jupyter Books?"
   ]
  },
  {
   "attachments": {},
   "cell_type": "markdown",
   "id": "4521f47e",
   "metadata": {},
   "source": [
    "There are countless ways of building a website, putting out content, and deploying it on the web: If people want to publish videos they tend to go to Youtube or TikTok, for text they might send around slides or PDFs.\n",
    "Of course, there are also platforms providing means to integrate multimodal resources. These, however, are oftentimes based on proprietary and non-opensource software. \n",
    "\n",
    "# Proprietary software works great for me, why should I consider using Jupyter Book? \n",
    "Great question! As stated earlier, we believe that digital literacy is one of the most important skills to possess in modern (research) environments.\n",
    "\n",
    "And while the usage of Jupyter Book allows for an integration of various media types including Markdown/ text, slides, Images, videos, interactive code, and more, another important benefit is the integration of other industry-standard, open-source tools, preparing students for real-world empirical work. While website-hosting and sharing of courses will be handled by GitHub, a local server system (JupyterHub) allows computationally-intense work on real datasets, regardless of a student's resources. Furthermore, our framework allows for the integration of automatic grading (Using \"nb grader).\n",
    "\n",
    "With Jupyter Books, students can run and modify code examples in real-time, which makes learning more interactive and engaging. Jupyter Books also allow for seamless integration with other open-source tools like GitHub and JupyterHub, making it a great choice for online education, research, and data science projects.\n",
    "\n"
   ]
  }
 ],
 "metadata": {
  "kernelspec": {
   "display_name": "Python 3 (ipykernel)",
   "language": "python",
   "name": "python3"
  },
  "language_info": {
   "codemirror_mode": {
    "name": "ipython",
    "version": 3
   },
   "file_extension": ".py",
   "mimetype": "text/x-python",
   "name": "python",
   "nbconvert_exporter": "python",
   "pygments_lexer": "ipython3",
   "version": "3.8.10"
  }
 },
 "nbformat": 4,
 "nbformat_minor": 5
}
