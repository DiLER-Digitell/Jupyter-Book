{
 "cells": [
  {
   "cell_type": "markdown",
   "id": "0b933185",
   "metadata": {},
   "source": [
    "# code of conduct"
   ]
  },
  {
   "cell_type": "markdown",
   "id": "f800bd16",
   "metadata": {},
   "source": [
    "Hello 👋,\n",
    "\n",
    "this course is dedicated to providing an environment where people are kind and respectful to each other, a harassment-free learning experience for everyone, regardless of gender, gender identity and expression, sexual orientation, disability, physical appearance, body size, race, age or religion. We do not tolerate harassment of event participants in any form. Sexual language and imagery is not appropriate for any event venue, including talks. Participants violating these rules may be sanctioned or expelled from the lecture at the discretion of the organizers.\n",
    "\n",
    "This could really be the end of that code of conduct, but some forms of harassment and negative behavior are fairly hard to identify at first. Please read carefully through the rest of the document to make sure you avoid them. There is also a section to know what to do and expect if you experience behavior that deviates from this code of conduct.\n",
    "\n",
    "Harassment includes, but is not limited to:\n",
    "⛔ Verbal comments that reinforce social structures of domination related to gender, gender identity and expression, sexual orientation, disability, physical appearance, body size, race, age or religion.\n",
    "⛔ Sexual images in public spaces\n",
    "⛔ Deliberate intimidation, stalking, or following\n",
    "⛔ Harassing photography or recording\n",
    "⛔ Sustained disruption of talks or other events\n",
    "⛔ Inappropriate physical contact\n",
    "⛔ Advocating for, or encouraging, any of the above behaviour\n",
    "⛔ Unwelcome sexual attention\n",
    "Microaggressions\n",
    "\n",
    "Incidents can take the form of “microaggressions,” which is a damaging form of harassment. Microaggressions are the everyday slights or insults which communicate negative messages to target individuals, often based upon their marginalized group membership. Over time, microaggressions can take a great toll on mental and emotional health, and the target’s feeling of belonging in science and academia. The following examples can all be labeled micro-aggressions:\n",
    "⛔ Commenting on a woman’s appearance rather than her work;\n",
    "⛔ Only directing questions at male colleagues when there are female experts in the room;\n",
    "⛔ Telling someone of colour that they “speak such good English”;\n",
    "⛔ Forcefully praising meat to an individual with a vegetarian diet;\n",
    "⛔ Praising alcoholic drinks to an individual who do not consume them.\n",
    "⛔ Exclusion from a group can be a common nonverbal form of microaggression.\n",
    "⛔ Microaggressions can be couched in the form of a “compliment,” (e.g. “you’re too attractive to be a scientist”).\n",
    "Respecting differences\n",
    "\n",
    "Participants come from many cultures and backgrounds. We therefore expect everyone to be very respectful of different cultural practices, attitudes, and beliefs. This includes being aware of preferred titles and pronouns, as well as using a respectful tone of voice. While we do not assume participants know the cultural practices of every ethnic and cultural group, we expect members to recognize and respect differences within our community. This means being open to learning from and educating others, as well as educating yourself.\n",
    "How to treat each other\n",
    "\n",
    "👍 Be respectful and value each other’s ideas, styles and viewpoints.\n",
    "👍 Be direct but professional; we cannot withhold hard truths.\n",
    "👍 Be inclusive and help new perspectives be heard.\n",
    "👍 Appreciate and accommodate our many cultural practices, attitudes and beliefs.\n",
    "👍 Be open to learning from others.\n",
    "👍 Lead by example and match your actions with your words.\n",
    "Enforcement\n",
    "\n",
    "Participants asked to stop any harassing behavior are expected to comply immediately. Organizers and presenters are also subject to the anti-harassment policy. In particular, they should not use sexualized images, activities, or other material. Event organisers may take action to redress anything designed to, or with the clear impact of, disrupting the event or making the environment hostile for any participants.\n",
    "Reporting\n",
    "\n",
    "If someone makes you or anyone else feel unsafe or unwelcome, please report it as soon as possible to the organizers either in person or by email.\n",
    "Reporting Issues\n",
    "\n",
    "Any incident of unacceptable behavior hurts the learning environment for everyone. We are therefore committed to supporting students to access corresponding reporting resources and ensure a supportive environment.\n",
    "\n",
    "When necessary, an organizer will assist students to file a report at the appropriate university office. Complaints can be filed, without limitation periods, for any incident of harassment that has occurred in the course of university activities, whether on or off-campus.\n",
    "\n",
    "Also, if you need moral support, feel welcome to ping the organizers in person or by email.\n",
    "Attribution\n",
    "\n",
    "Thanks and credits go the Montreal Brainhack School for providing the CoC, this CoC is based on.\n"
   ]
  }
 ],
 "metadata": {
  "language_info": {
   "name": "python"
  }
 },
 "nbformat": 4,
 "nbformat_minor": 5
}
