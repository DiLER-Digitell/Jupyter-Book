{
 "cells": [
  {
   "cell_type": "markdown",
   "metadata": {},
   "source": [
    "# Welcome!"
   ]
  },
  {
   "attachments": {},
   "cell_type": "markdown",
   "metadata": {},
   "source": [
    "Hello and welcome everyone to the introduction page for the course: **creating interactive content with \"Jupyter Books\"**! created as part of [DIGITELL]() link, by the [DiLER ()]() project.\n",
    "\n",
    "As you read through the subsections of this website, you will gain insight on how to quickly create beatiful, easy-to-deploy and interactive content. \n",
    "\n",
    "While this tutorial was created with the goal of an integrated framework for digital education at Goethe University, this doesn't limit the content to members of Goethe University: We utilize free, open-source software available to anyone.\n",
    "\n",
    "We believe that education should be available to as many people as possible, which is why diversity and accessiblity played major roles during the creation of this tutorial.\n",
    "___\n"
   ]
  },
  {
   "attachments": {},
   "cell_type": "markdown",
   "metadata": {},
   "source": [
    "## The goal of this project\n",
    "\n",
    "The DiLER project aims to create a framework for providing, bundling, and introducing the benefits of free, open-source resources for promoting research-based learning, with a focus on the core competency of \"digital literacy\" in empirical sciences. This is done through multimedia, competence-oriented content and exams that cover the entire empirical research process, using examples from various requirements of psychology studies. \n",
    "\n",
    "Our project places a strong emphasis on promoting sustainability and transferability to other content and application areas, supported by integrated feedback options for students and teachers, and incorporating necessary hardware and software infrastructure. The project also primarily follows the FAIR principles (Findability, Accessibility, Interoperability, Reuse of digital assets) in order to maximize the benefits and accessibility of provided materials.\n",
    "\n",
    "___\n",
    "## Mission statement: Digital Literacy\n",
    "\n",
    "With the surge of progressively more available and interconnected data, *Digital Literacy* has become a skill integral in teaching, science, and everyday life. Digital Literacy is a term describing competencies of using modern information technology, managing information, thinking critically, and selecting and applicating these reasonably. These skills are not only relevant due to the increasing levels of complexity of science, limited access to resources, and intransparencies of digital infrastructures, but also nessessary for independent emperical research.\n",
    "Classic educational concepts are oftentimes not sufficiently equipped to convey what digital literacy entails.\n",
    "\n",
    "This project has the goal to better enable course instructors to leverage the benefits of interactive, flexible and open-source ressources in their teachings. \n",
    "-------------needs to be fleshed out more ---------------------------------------\n",
    "\n",
    "___\n",
    "\n"
   ]
  }
 ],
 "metadata": {
  "kernelspec": {
   "display_name": "Python 3",
   "language": "python",
   "name": "python3"
  },
  "language_info": {
   "codemirror_mode": {
    "name": "ipython",
    "version": 3
   },
   "file_extension": ".py",
   "mimetype": "text/x-python",
   "name": "python",
   "nbconvert_exporter": "python",
   "pygments_lexer": "ipython3",
   "version": "3.8.10 (tags/v3.8.10:3d8993a, May  3 2021, 11:48:03) [MSC v.1928 64 bit (AMD64)]"
  },
  "vscode": {
   "interpreter": {
    "hash": "5289083c3f5abe312d701549a23d918d5df8d2bf6b85b22b433ed91977547b08"
   }
  },
  "widgets": {
   "application/vnd.jupyter.widget-state+json": {
    "state": {},
    "version_major": 2,
    "version_minor": 0
   }
  }
 },
 "nbformat": 4,
 "nbformat_minor": 4
}
