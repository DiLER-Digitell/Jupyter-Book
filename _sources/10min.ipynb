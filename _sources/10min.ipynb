{
 "cells": [
  {
   "attachments": {},
   "cell_type": "markdown",
   "id": "679c2cbb",
   "metadata": {},
   "source": [
    "# Quick Setup Guide for Deploying Courses using Jupyter Book on Github"
   ]
  },
  {
   "attachments": {},
   "cell_type": "markdown",
   "id": "ba24daec",
   "metadata": {},
   "source": [
    "You have some experience in setting up or just want the quickest way to a finished Jupyter Book? This is the page for you. While we can't give you a lot of information in 10 steps, this page condenses the creation and hosting process of Jupyter Books."
   ]
  },
  {
   "attachments": {},
   "cell_type": "markdown",
   "id": "a9a04687",
   "metadata": {},
   "source": [
    "#### 1. Make sure you have all the prerequisites installed\n",
    "Before you start setting up your course using Jupyter Book, make sure you have the following tools installed on your machine:\n",
    "- **Git**: A version control system that helps you keep track of your code changes.\n",
    "- **Jupyter Book**: A tool that helps you build and publish interactive books or documents. You can install Jupyter Book using pip install jupyter-book.\n",
    "- A **text editor of your choice**: You can use any text editor, such as Visual Studio Code, Sublime Text, or Atom, to create and edit your content.\n",
    "Need a fresh up? No problem, check [here](.../setup/setup.ipynb) )\n",
    "#### 2. Create a fresh Git Repository for your project\n",
    "- Go to the GitHub website (https://github.com) and click on the plus button on the upper right corner.\n",
    "![GHNewRepo](https://github.com/felixkoerber/jb/blob/main/static/New_repo.jpg?raw=true)\n",
    "- Create a new repository for your course by giving it a name and a description.\n",
    "![GHNewRepo_Description](https://github.com/felixkoerber/jb/blob/main/static/new_repo_example.png?raw=true)\n",
    "- On GitHub, open up the empty project in your browser.\n",
    "-  Navigate to `settings`, `actions`, then `general` to change **Workflow permissions** to **Read and Write Permission** to change the Workflow permissions to Read and Write Permission. This will allow you to push changes to the repository from your local machine.\n",
    "![Workflow_Permissions](https://raw.githubusercontent.com/felixkoerber/jb/0bd9a2930a41bc3f79ad876b603ea5534ef1a23a/static/Workflow_permission.jpg)\n",
    "- Save your changes.\n",
    "- Open up a terminal window and navigate to the location where you want to store your local course copy.\n",
    "-  Copy the project's link and clone the repository using the following command: git clone https://github.com/<yourprojectname>.\n",
    "#### 3. Copy our course template\n",
    "- open our [course template repository](https://github.com/M-earnest/course_template_diler)\n",
    "- click on `code` and then on *Download ZIP*\n",
    "![Download_template](https://github.com/felixkoerber/jb/blob/main/static/Download_template.jpg?raw=true)\n",
    "- Extract the contents of the ZIP file in the folder linked to your GitHub repository.\n",
    "#### 4. Create Content\n",
    "- Open the Markdown (.md) or Jupyter (.ipynb) files and copy your interactive content and code.\n",
    "- Make sure to give each file a meaningful name and add a title to each page.\n",
    "- You can use the provided style guide as a reference to see how to effectively implement MyST Markdown.\n",
    "#### 5. Table of Contents and config\n",
    "-  Once you've created files, open the `_toc.yml`\n",
    "-  add your newly created files in the sequence of your choice according to our template\n",
    "-  open the `_config.yml`\n",
    "-  Change the title, author, and the location of your GitHub repository.\n",
    "#### 6. Share it online\n",
    "- In your terminal, navigate to the location of your project and type the following commands:\n",
    "- a. ) `git add .`\n",
    "- b. ) `git commit -m \"my first commit`\n",
    "- c. ) `git push`\n",
    "#### 7. Add the pages\n",
    "- On Github, navigate to `settings` and `pages`\n",
    "- Click on `branch` and select `gh-pages`\n",
    "![Set-Up_Pages](https://github.com/felixkoerber/jb/blob/main/static/Set_Up_Pages.jpg?raw=true)\n",
    "You're all set! Once you're ready, make sure to make your repository public, so that others can view your beautiful website.\n",
    "\n"
   ]
  },
  {
   "attachments": {},
   "cell_type": "markdown",
   "id": "1f8ad8c0",
   "metadata": {},
   "source": []
  }
 ],
 "metadata": {
  "kernelspec": {
   "display_name": "Python 3",
   "language": "python",
   "name": "python3"
  },
  "language_info": {
   "name": "python",
   "version": "3.8.10"
  },
  "vscode": {
   "interpreter": {
    "hash": "5289083c3f5abe312d701549a23d918d5df8d2bf6b85b22b433ed91977547b08"
   }
  }
 },
 "nbformat": 4,
 "nbformat_minor": 5
}
