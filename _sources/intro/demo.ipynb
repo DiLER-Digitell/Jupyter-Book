{
 "cells": [
  {
   "cell_type": "markdown",
   "metadata": {},
   "source": [
    "# Showcase Examples"
   ]
  },
  {
   "attachments": {},
   "cell_type": "markdown",
   "metadata": {},
   "source": [
    "Various university courses have already been created in this framwork. Below you can find a few examples. Feel free to check them out. :)\n",
    "\n",
    "* [Machine Learning/ Deep Learning course for Graduate Students at Goethe University](https://peerherholz.github.io/Cog_Com_Neuro_ML_DL/)\n",
    "* [Bachelor's course for emperical Neuroscience](https://peerherholz.github.io/EXPRA_Winter2021/)\n"
   ]
  }
 ],
 "metadata": {
  "kernelspec": {
   "display_name": "Python 3",
   "language": "python",
   "name": "python3"
  },
  "language_info": {
   "codemirror_mode": {
    "name": "ipython",
    "version": 3
   },
   "file_extension": ".py",
   "mimetype": "text/x-python",
   "name": "python",
   "nbconvert_exporter": "python",
   "pygments_lexer": "ipython3",
   "version": "3.8.0"
  },
  "widgets": {
   "application/vnd.jupyter.widget-state+json": {
    "state": {},
    "version_major": 2,
    "version_minor": 0
   }
  }
 },
 "nbformat": 4,
 "nbformat_minor": 4
}
