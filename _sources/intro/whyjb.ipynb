{
 "cells": [
  {
   "cell_type": "markdown",
   "id": "2d201d42",
   "metadata": {},
   "source": [
    "# Why should you use Jupyter Books?"
   ]
  },
  {
   "attachments": {},
   "cell_type": "markdown",
   "id": "4521f47e",
   "metadata": {},
   "source": [
    "There are countless ways of building a website, putting out content, and deploying it on the web: If people want to publish videos they tend to go to Youtube or TikTok, for text they might send around slides or PDFs.\n",
    "Of course, there are also platforms providing means to integrate multimodal resources. These, however, are oftentimes based on proprietary and non-opensource software. \n",
    "\n",
    "# Proprietary software works great for me, why should I consider using Jupyter Book? \n",
    "__Great question!__\n",
    " As stated earlier, we believe that digital literacy is one of the most important skills to possess in modern (research) environments.\n",
    "\n",
    "Jupyter Book is a powerful tool for creating open, interactive educational materials. Here are just a few of the reasons why it's worth considering for your next educational project:\n",
    "\n",
    "1. Jupyter Book allows you to combine live code, equations, visualizations, and narrative text in a single document. This makes it easy to create engaging, interactive educational content that helps students understand complex concepts.\n",
    "\n",
    "2. Jupyter Book is built on top of the Jupyter Notebook, which is a widely-used, open-source tool for interactive computing. This means that there is a large community of users and developers who can help you with any questions or issues that you may have.\n",
    "\n",
    "3. Jupyter Book is open-source and can be hosted on GitHub, which makes it easy to share and collaborate on educational materials with others. This is particularly useful for educators who are working on a project with other teachers or researchers.\n",
    "\n",
    "4. Jupyter Book allows you to create interactive widgets, such as sliders and drop-down menus, that can be used to control code or data visualizations in your educational materials. This makes it easy to create interactive exercises and quizzes that can help students better understand the material.\n",
    "\n",
    "5. Jupyter Book also provides the ability to export the book in various format such as HTML, PDF, and EPUB, this makes it easy to share the book in different platforms and devices.\n",
    "\n"
   ]
  }
 ],
 "metadata": {
  "kernelspec": {
   "display_name": "Python 3",
   "language": "python",
   "name": "python3"
  },
  "language_info": {
   "codemirror_mode": {
    "name": "ipython",
    "version": 3
   },
   "file_extension": ".py",
   "mimetype": "text/x-python",
   "name": "python",
   "nbconvert_exporter": "python",
   "pygments_lexer": "ipython3",
   "version": "3.8.10 (tags/v3.8.10:3d8993a, May  3 2021, 11:48:03) [MSC v.1928 64 bit (AMD64)]"
  },
  "vscode": {
   "interpreter": {
    "hash": "5289083c3f5abe312d701549a23d918d5df8d2bf6b85b22b433ed91977547b08"
   }
  }
 },
 "nbformat": 4,
 "nbformat_minor": 5
}
