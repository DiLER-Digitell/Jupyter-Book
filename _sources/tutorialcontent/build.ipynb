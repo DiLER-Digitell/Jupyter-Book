{
 "cells": [
  {
   "cell_type": "markdown",
   "id": "c9ebfd8c",
   "metadata": {},
   "source": [
    "# Build your Book"
   ]
  }
 ],
 "metadata": {
  "language_info": {
   "name": "python"
  }
 },
 "nbformat": 4,
 "nbformat_minor": 5
}
