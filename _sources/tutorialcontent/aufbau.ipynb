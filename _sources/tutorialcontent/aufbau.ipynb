{
 "cells": [
  {
   "cell_type": "markdown",
   "id": "0bb5aa90",
   "metadata": {},
   "source": [
    "# Structuring Books"
   ]
  },
  {
   "attachments": {},
   "cell_type": "markdown",
   "id": "b461433b",
   "metadata": {},
   "source": [
    "The structure of your book is based on a YAML file called _toc.yml, which contains the *Table of Contents*.\n",
    "In the simplest form, the _toc.yml looks like this:\n",
    "\n",
    "<code>\n",
    "format: jb-book </p>\n",
    "root: index </p>\n",
    "chapters: </p>\n",
    "- file: path/to/chapter1 </p>\n",
    "- file: path/to/chapter2 </p>\n",
    "<code>"
   ]
  }
 ],
 "metadata": {
  "language_info": {
   "name": "python"
  }
 },
 "nbformat": 4,
 "nbformat_minor": 5
}
