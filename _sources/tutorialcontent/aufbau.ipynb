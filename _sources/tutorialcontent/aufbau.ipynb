{
 "cells": [
  {
   "cell_type": "markdown",
   "id": "0bb5aa90",
   "metadata": {},
   "source": [
    "# Structuring Books"
   ]
  },
  {
   "attachments": {},
   "cell_type": "markdown",
   "id": "b461433b",
   "metadata": {},
   "source": [
    "The structure of your book is based on a YAML file called _toc.yml, which contains the *Table of Contents*.\n",
    "In the simplest form, the _toc.yml looks like this:\n",
    "\n",
    "<code>\n",
    "format: jb-book\n",
    "\n",
    "root: index\n",
    "\n",
    "chapters:\n",
    "\n",
    "- file: path/to/chapter1\n",
    "\n",
    "- file: path/to/chapter2\n",
    "\n",
    "  sections:\n",
    "\n",
    "  - file: path/to/chapter2/section1\n",
    "  \n",
    "</code>"
   ]
  },
  {
   "attachments": {},
   "cell_type": "markdown",
   "id": "5bfbb825",
   "metadata": {},
   "source": [
    "## **`format`**\n",
    "\n",
    ">  *Format* defines how the ToC will be interpreted. For many cases, `jb-book` will be the appropiate option. (other options and their usecases will be  described later.)"
   ]
  },
  {
   "attachments": {},
   "cell_type": "markdown",
   "id": "54e11648",
   "metadata": {},
   "source": [
    "## **`root`**\n",
    "\n",
    ">  *Root* defines the landing (aka first) page of your book. Paths that you define will be relative to the root."
   ]
  },
  {
   "attachments": {},
   "cell_type": "markdown",
   "id": "c0d6f08f",
   "metadata": {},
   "source": [
    "## **`chapters`**\n",
    "\n",
    ">  Contains a list of files."
   ]
  },
  {
   "attachments": {},
   "cell_type": "markdown",
   "id": "939087d8",
   "metadata": {},
   "source": [
    "## **`file`**\n",
    "\n",
    ">  Path to the files that you want to include in your book. All the paths are relative to the root.\n",
    "Can also be a url. "
   ]
  },
  {
   "attachments": {},
   "cell_type": "markdown",
   "id": "fbbcdf27",
   "metadata": {},
   "source": [
    "## **`sections`**\n",
    "\n",
    ">  Defines sections of a chapter."
   ]
  },
  {
   "attachments": {},
   "cell_type": "markdown",
   "id": "d9e34f82",
   "metadata": {},
   "source": [
    "___\n",
    "## Generate ToC based on existing content files\n"
   ]
  },
  {
   "cell_type": "code",
   "execution_count": 2,
   "id": "5f78e562",
   "metadata": {},
   "outputs": [
    {
     "ename": "SyntaxError",
     "evalue": "invalid syntax (2286695232.py, line 1)",
     "output_type": "error",
     "traceback": [
      "\u001b[1;36m  Input \u001b[1;32mIn [2]\u001b[1;36m\u001b[0m\n\u001b[1;33m    Usage: jupyter-book toc from-project [OPTIONS] SITE_DIR\u001b[0m\n\u001b[1;37m                        ^\u001b[0m\n\u001b[1;31mSyntaxError\u001b[0m\u001b[1;31m:\u001b[0m invalid syntax\n"
     ]
    }
   ],
   "source": [
    "Usage: jupyter-book toc from-project [OPTIONS] SITE_DIR\n",
    "\n",
    "  Create a ToC file from a project directory.\n",
    "\n",
    "Options:\n",
    "  -e, --extension TEXT            File extensions to consider as documents\n",
    "                                  (use multiple times)  [default: .rst, .md]\n",
    "  -i, --index TEXT                File name (without suffix) considered as the\n",
    "                                  index file in a folder  [default: index]\n",
    "  -s, --skip-match TEXT           File/Folder names which match will be\n",
    "                                  ignored (use multiple times)  [default: .*]\n",
    "  -t, --guess-titles              Guess titles of documents from path names\n",
    "  -f, --file-format [default|jb-book|jb-article]\n",
    "                                  The key-mappings to use.  [default: default]\n",
    "  -h, --help                      Show this message and exit."
   ]
  }
 ],
 "metadata": {
  "kernelspec": {
   "display_name": "Python 3",
   "language": "python",
   "name": "python3"
  },
  "language_info": {
   "codemirror_mode": {
    "name": "ipython",
    "version": 3
   },
   "file_extension": ".py",
   "mimetype": "text/x-python",
   "name": "python",
   "nbconvert_exporter": "python",
   "pygments_lexer": "ipython3",
   "version": "3.10.4"
  },
  "vscode": {
   "interpreter": {
    "hash": "d560ba8d507c54a01f2f7ed33b1ad7c3fc56f06723f11412b74cfa1ed27a6faa"
   }
  }
 },
 "nbformat": 4,
 "nbformat_minor": 5
}
