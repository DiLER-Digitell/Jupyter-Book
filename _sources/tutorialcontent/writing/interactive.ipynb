{
 "cells": [
  {
   "attachments": {},
   "cell_type": "markdown",
   "id": "aa34306c",
   "metadata": {},
   "source": [
    "# Making Books truly interactive"
   ]
  },
  {
   "attachments": {},
   "cell_type": "markdown",
   "id": "281f8ff5",
   "metadata": {},
   "source": [
    "In the modern world, where information is abundant and attention spans are short, `interactive content` has become a critical factor in successful education. Interactive content engages learners by providing an `immersive and engaging learning experience` that goes beyond passive consumption of information. Interactive content allows learners to actively participate in the learning process, making it more memorable and `increasing retention`. By combining various media, such as text, images, audio, video, and interactive elements, educators can provide a more comprehensive and engaging learning experience. Interactive content also enables learners to progress at their own pace, allowing them to focus on areas where they need more help and skip over content they already know. As such, interactive content is a `powerful tool for modern education` that can help learners retain information, stay engaged, and achieve better results.\n",
    "\n",
    "\n",
    "Previously in this tutorial, we have described, how `Jupyter Book performs exceptionally well` in providing the means for interactive content. But how do you make content like code cells or graphics interactive?\n",
    "\n",
    "In this part of the tutorial, you will learn just that!\n",
    "\n",
    "## Objectives 📍\n",
    "\n",
    "* Learn how to make your code cells run interactively\n",
    "* Learn how to embed interactive graphics in your book"
   ]
  },
  {
   "attachments": {},
   "cell_type": "markdown",
   "id": "6d6f5f98",
   "metadata": {},
   "source": [
    "## The How-To\n",
    "\n",
    "Setting up your Juypter Book is fairly simple, just follow the steps below.\n",
    "\n",
    "### 1. Set-Up your `config`\n",
    "\n",
    "```{note}\n",
    "If you use the template we provide, you can skip to step two\n",
    "```\n",
    "\n",
    "- In your project folder, open the `_config.yml`\n",
    "- Copy the following code:\n",
    "<code>\n",
    "launch_buttons:\n",
    "  notebook_interface        : \"jupyterlab\"  # The interface interactive links will activate [\"classic\", \"jupyterlab\"]\n",
    "  binderhub_url             : \"https://mybinder.org\"  # The URL of the BinderHub (e.g., https://mybinder.org); needs to be adapted\n",
    "  thebe                     : True  # Add a thebe button to pages (requires the repository to run on Binder)\n",
    "</code>\n",
    "\n",
    "### 2. MyBinder\n",
    "- open [mybinder.org](https://mybinder.org)\n",
    "- "
   ]
  }
 ],
 "metadata": {
  "kernelspec": {
   "display_name": "Python 3",
   "language": "python",
   "name": "python3"
  },
  "language_info": {
   "name": "python",
   "version": "3.10.4"
  },
  "vscode": {
   "interpreter": {
    "hash": "d560ba8d507c54a01f2f7ed33b1ad7c3fc56f06723f11412b74cfa1ed27a6faa"
   }
  }
 },
 "nbformat": 4,
 "nbformat_minor": 5
}
