{
 "cells": [
  {
   "cell_type": "markdown",
   "id": "94e19b08-5b0a-4e85-badc-57ee9b0907bf",
   "metadata": {},
   "source": [
    "# Setup: Before Creating Content\n",
    "\n",
    "Fortunately and unfortunately comitting to open source projects usually requires more in-depth knowledge than just pushing some slides onto dropbox and sending a link to your students.\n",
    "\n",
    "To replicate the showcased websites here we'll therefore be using some tools that you might not be familliar with. The following section will illustrate exatly what we need, how to install the necessary tools and where to go for further information.\n",
    "\n",
    "- We'll need the following\n",
    "\n",
    "- [conda](https://conda-forge.org/)\n",
    "- [git](https://git-scm.com)\n",
    "- [VsCode](https://code.visualstudio.com/)\n",
    "- [Jupyter](https://jupyter.org/)\n",
    "- [Jupyter books](https://jupyterbook.org/en/stable/intro.html)\n",
    "- a [Github](https://github.com/) account\n",
    "- [nbgrader](https://nbgrader.readthedocs.io/en/stable/)\n",
    "\n",
    "\n",
    "helpful tools that are not strictly necessary but can be quite useful or make your life easier:\n",
    "- [GitKraken](https://www.gitkraken.com/)\n",
    "\n",
    "if you want to provide interactive content:\n",
    "- https://mybinder.org/\n"
   ]
  }
 ],
 "metadata": {
  "kernelspec": {
   "display_name": "Python 3 (ipykernel)",
   "language": "python",
   "name": "python3"
  },
  "language_info": {
   "codemirror_mode": {
    "name": "ipython",
    "version": 3
   },
   "file_extension": ".py",
   "mimetype": "text/x-python",
   "name": "python",
   "nbconvert_exporter": "python",
   "pygments_lexer": "ipython3",
   "version": "3.7.6"
  }
 },
 "nbformat": 4,
 "nbformat_minor": 5
}
