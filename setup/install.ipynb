{
 "cells": [
  {
   "cell_type": "markdown",
   "id": "0ac40aaf",
   "metadata": {},
   "source": [
    "# Prerequisites"
   ]
  }
 ],
 "metadata": {
  "language_info": {
   "name": "python"
  }
 },
 "nbformat": 4,
 "nbformat_minor": 5
}
