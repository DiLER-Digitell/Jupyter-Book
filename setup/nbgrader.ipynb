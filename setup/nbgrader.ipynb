{
 "cells": [
  {
   "cell_type": "markdown",
   "id": "e33cae64",
   "metadata": {},
   "source": [
    "# NbGrader: Automatic Grading of Assignments"
   ]
  }
 ],
 "metadata": {
  "language_info": {
   "name": "python"
  }
 },
 "nbformat": 4,
 "nbformat_minor": 5
}
