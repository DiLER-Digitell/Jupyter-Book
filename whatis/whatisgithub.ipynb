{
 "cells": [
  {
   "cell_type": "markdown",
   "id": "61fbf7de",
   "metadata": {},
   "source": [
    "# What is: GitHub"
   ]
  },
  {
   "attachments": {},
   "cell_type": "markdown",
   "id": "293cd6b9",
   "metadata": {},
   "source": [
    "GitHub is a website that allows devolopers to host and mangage code"
   ]
  }
 ],
 "metadata": {
  "kernelspec": {
   "display_name": "Python 3",
   "language": "python",
   "name": "python3"
  },
  "language_info": {
   "name": "python",
   "version": "3.8.10 (tags/v3.8.10:3d8993a, May  3 2021, 11:48:03) [MSC v.1928 64 bit (AMD64)]"
  },
  "vscode": {
   "interpreter": {
    "hash": "5289083c3f5abe312d701549a23d918d5df8d2bf6b85b22b433ed91977547b08"
   }
  }
 },
 "nbformat": 4,
 "nbformat_minor": 5
}
