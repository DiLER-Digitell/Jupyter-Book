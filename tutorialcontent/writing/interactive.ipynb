{
 "cells": [
  {
   "attachments": {},
   "cell_type": "markdown",
   "id": "aa34306c",
   "metadata": {},
   "source": [
    "# Making Books truly interactive"
   ]
  },
  {
   "attachments": {},
   "cell_type": "markdown",
   "id": "281f8ff5",
   "metadata": {},
   "source": [
    "In the modern world, where information is abundant and attention spans are short, `interactive content` has become a critical factor in successful education. Interactive content engages learners by providing an `immersive and engaging learning experience` that goes beyond passive consumption of information. Interactive content allows learners to actively participate in the learning process, making it more memorable and `increasing retention`. By combining various media, such as text, images, audio, video, and interactive elements, educators can provide a more comprehensive and engaging learning experience. Interactive content also enables learners to progress at their own pace, allowing them to focus on areas where they need more help and skip over content they already know. As such, interactive content is a `powerful tool for modern education` that can help learners retain information, stay engaged, and achieve better results.\n",
    "\n",
    "\n",
    "Previously in this tutorial, we have described, how `Jupyter Book performs exceptionally well` in providing the means for interactive content. But how do you make content like code cells or graphics interactive?\n",
    "\n",
    "In this part of the tutorial, you will learn just that!\n",
    "\n",
    "## Objectives 📍\n",
    "\n",
    "* Learn how to make your code cells run interactively\n",
    "* Learn how to embed interactive graphics in your book"
   ]
  }
 ],
 "metadata": {
  "kernelspec": {
   "display_name": "Python 3",
   "language": "python",
   "name": "python3"
  },
  "language_info": {
   "name": "python",
   "version": "3.8.10"
  },
  "vscode": {
   "interpreter": {
    "hash": "5289083c3f5abe312d701549a23d918d5df8d2bf6b85b22b433ed91977547b08"
   }
  }
 },
 "nbformat": 4,
 "nbformat_minor": 5
}
