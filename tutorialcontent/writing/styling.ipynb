{
 "cells": [
  {
   "cell_type": "markdown",
   "id": "a9420de7",
   "metadata": {},
   "source": [
    "# Styling: The Look and Feel"
   ]
  }
 ],
 "metadata": {
  "language_info": {
   "name": "python"
  }
 },
 "nbformat": 4,
 "nbformat_minor": 5
}
