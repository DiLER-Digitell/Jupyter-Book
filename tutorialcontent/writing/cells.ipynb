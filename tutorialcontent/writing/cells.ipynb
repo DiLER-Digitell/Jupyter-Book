{
 "cells": [
  {
   "attachments": {},
   "cell_type": "markdown",
   "id": "aa34306c",
   "metadata": {},
   "source": [
    "# Cells in Jupyter Notebooks: Types and Usages"
   ]
  },
  {
   "attachments": {},
   "cell_type": "markdown",
   "id": "55b455a7",
   "metadata": {},
   "source": [
    "As outlined previously, Jupyter Book allows for the integration of .ipybn files (better known as Jupyter Notebooks), which are a flexible solution for writing both *code* (Julia, Python and R) or in *Markdown* (MyST) in one document. "
   ]
  },
  {
   "cell_type": "markdown",
   "id": "c0e35f1f",
   "metadata": {},
   "source": [
    "```{note}\n",
    "the name **Jupyter**  references the three programming languages supported by Jupyter: **Julia, Python and R**\n",
    "```"
   ]
  },
  {
   "attachments": {},
   "cell_type": "markdown",
   "id": "f7554792",
   "metadata": {},
   "source": [
    "Jupyter Notebooks are organized in a sequence of \"cells\", each cell can consist of multi-line content. Depending on the type of cell, the behavior changes if the cell type is changed. There are three types of cells: **code cells, markdown cells, and raw cells** (raw cells probably won't be of high significance for building courses). Every cell starts off as a code cell, but can be changed depending on the program you are using: "
   ]
  },
  {
   "attachments": {},
   "cell_type": "markdown",
   "id": "09caa3d7",
   "metadata": {},
   "source": [
    "````{tab} Visual Studio Code (recommended)\n",
    "To change the cell state, either click on the current cell type on the lower right cell corner. To add a new cell, move your cursor below an existing cell, where you can choose, whether you want to add a new Code or Markdown cell. \n",
    "\n",
    "````\n",
    "````{tab} Jupyter Notebook/ Jupyter Lab (also great!)\n",
    "lorem ipsum\n",
    "````"
   ]
  }
 ],
 "metadata": {
  "kernelspec": {
   "display_name": "Python 3",
   "language": "python",
   "name": "python3"
  },
  "language_info": {
   "name": "python",
   "version": "3.8.10 (tags/v3.8.10:3d8993a, May  3 2021, 11:48:03) [MSC v.1928 64 bit (AMD64)]"
  },
  "vscode": {
   "interpreter": {
    "hash": "5289083c3f5abe312d701549a23d918d5df8d2bf6b85b22b433ed91977547b08"
   }
  }
 },
 "nbformat": 4,
 "nbformat_minor": 5
}
