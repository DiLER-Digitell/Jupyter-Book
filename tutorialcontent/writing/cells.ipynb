{
 "cells": [
  {
   "cell_type": "markdown",
   "id": "aa34306c",
   "metadata": {},
   "source": [
    "# Cells: Types and Usages"
   ]
  }
 ],
 "metadata": {
  "language_info": {
   "name": "python"
  }
 },
 "nbformat": 4,
 "nbformat_minor": 5
}
