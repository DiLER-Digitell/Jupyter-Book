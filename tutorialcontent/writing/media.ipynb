{
 "cells": [
  {
   "cell_type": "markdown",
   "id": "f47c6b0b",
   "metadata": {},
   "source": [
    "# Media: Images, Videos & More"
   ]
  },
  {
   "attachments": {},
   "cell_type": "markdown",
   "id": "3402e9db",
   "metadata": {},
   "source": [
    "## Images\n",
    "In MyST, there few different ways to include images. Here we will highlight the way that is most optimal for hosting the Book with our provided gh-actions script.\n",
    "\n",
    "The easiest way is to add the images to your projects in the static folder of your project. Once you push/ upload the project to your GitHub you essentially are hosting the images through their services.\n",
    "\n",
    "To add images in your Jupyter Book, use the following line of Markdown in a markdown cell:\n",
    "\n",
    "`![alternative_imagetext](https://YOURGITHUBNAME.github.io/PROJECTNAME/_static/FILENAME.png)`\n",
    "\n",
    "Resulting, for example, in:\n",
    "\n",
    "![alternative_imagetext](https://felixkoerber.github.io/jb/_static/logo.png)\n",
    "\n",
    "As you are able to use essentially any imagelink, you can add images that are hosted through other websites, too!\n",
    "\n",
    "If you want more control about the size, orientation and more, you can also use HTML following line of code:\n",
    "\n",
    "`<img src=\"(https://YOURGITHUBNAME.github.io/PROJECTNAME/_static/FILENAME.png\" alt=\"alternative_imagetext\" class=\"bg-primary mb-1\" width=\"200px\">`\n",
    "\n",
    "Since we have adjusted the image width, this results in a smaller image:\n",
    "\n",
    "\n",
    "<img src=\"https://felixkoerber.github.io/jb/_static/logo.png\" alt=\"logo\" class=\"bg-primary mb-1\" width=\"200px\">\n",
    "\n"
   ]
  },
  {
   "attachments": {},
   "cell_type": "markdown",
   "id": "4423c60d",
   "metadata": {},
   "source": [
    "## Videos, Presentations, GIFs, and more: iframes\n",
    "\n",
    "Jupyter Book enables you to implement `html` into your books, which allows for the integration of almost every type of media, including - but not limited to - `Videos, Presentations, GIFs, Maps` and `Images` via `iframes`.\n",
    "\n",
    "```{note}\n",
    "`iframes` or *inlineframes* are HTML-elements, that can be used to embed content from different websites.\n",
    "```\n",
    "\n",
    "Inlineframes are structured are implemented like this:\n",
    "\n",
    "`<iframe src=\"http://www.example.com/\" height=\"100\" width=\"200\" name=\"iframename\">Alternative title</iframe>`\n",
    "\n",
    "Thus, they essentially follow the same structuring like the html-image integration.\n",
    "\n",
    "To quickly generate this code for the media of your choice, you can use tool like the [iframe-generator](https://www.iframe-generator.com/), where you add the media url, can change various settings and can then generate the iframe code.\n",
    "\n",
    "Let's go over different types of media embeddings:\n",
    "\n",
    "___\n",
    "\n"
   ]
  },
  {
   "attachments": {},
   "cell_type": "markdown",
   "id": "f7d98ce1",
   "metadata": {},
   "source": [
    "## Google Slides\n",
    "\n",
    "To embed Google Slides in Jupyter Book, you can use an HTML iframe. Here's how:\n",
    "\n",
    "* Go to your Google Slides presentation and click on the \"Share\" button in the top-right corner of the screen.\n",
    "\n",
    "* Click on the \"Advanced\" link in the bottom-right corner of the sharing settings.\n",
    "\n",
    "* In the \"Who has access\" section, click on the drop-down menu and select \"On - Anyone with the link.\"\n",
    "\n",
    "* Copy the link that's provided.\n",
    "\n",
    "* Open your Jupyter Book and create a new Markdown cell where you want to embed the Google Slides presentation.\n",
    "\n",
    "* In the Markdown cell, create an HTML iframe with the following code:\n",
    "`<iframe src=\"your-google-slides-link\" width=\"100%\" height=\"400px\"></iframe>`\n",
    "\n",
    "Which could result in something like this:\n",
    "\n",
    "<iframe src=\"https://docs.google.com/presentation/d/1GzgJIF8vbXauhIagFWZwnmLEIuFKcJGzZk7eQRBs57M/edit?usp=sharing\" width=\"100%\" height=\"400px\" allowfullscreen=\"true\" mozallowfullscreen=\"true\" webkitallowfullscreen=\"true\"></iframe>\n",
    "\n",
    "\n",
    "Note that the width and height of the iframe can be adjusted to fit your specific use case. You may also want to adjust the styling of the iframe to better match your Jupyter Book's visual design."
   ]
  },
  {
   "attachments": {},
   "cell_type": "markdown",
   "id": "49214f79",
   "metadata": {},
   "source": [
    "### Videos\n",
    "\n",
    "To add videos, you need to add the \"embed\"-URL of the video. \n",
    "This URL is formatted like this:\n",
    "`http://www.youtube.com/embed/VIDEO_ID`\n",
    "\n",
    "\n",
    "Thus, `https://www.youtube.com/watch?v=c-bemNZ-IqA` would become `https://www.youtube.com/embed/c-bemNZ-IqA`.\n",
    "\n",
    "Added in iframes, it looks this:\n",
    "\n",
    "```<iframe src=\"https://www.youtube.com/embed/c-bemNZ-IqA\" style=\"border:0px #ffffff none;\" name=\"Open Science Video\" scrolling=\"no\" frameborder=\"1\" marginheight=\"0px\" marginwidth=\"0px\" height=\"400px\" width=\"600px\" allowfullscreen></iframe>```\n",
    "\n",
    "Turning into:\n",
    "<iframe src=\"https://www.youtube.com/embed/c-bemNZ-IqA\" style=\"border:0px #ffffff none;\" name=\"Open Science Video\" scrolling=\"no\" frameborder=\"1\" marginheight=\"0px\" marginwidth=\"0px\" height=\"400px\" width=\"600px\" allowfullscreen></iframe>"
   ]
  },
  {
   "attachments": {},
   "cell_type": "markdown",
   "id": "427bf20e",
   "metadata": {},
   "source": [
    "\n",
    "### GIFs\n",
    "\n",
    "To implement GIFs in Jupyter Books, you can also use HTML to embed a GIF in Jupyter Books. Here's an example:\n",
    "\n",
    "`<iframe src=\"link/to/your/gif/file.gif\" width=\"240\" height=\"200\" frameBorder=\"0\" class=\"giphy-embed\" allowFullScreen></iframe>'`\n",
    "\n",
    "Again, replace \"link/to/your/gif/file.gif\" with the URL or file path to your GIF.\n",
    "\n",
    "This could result in:\n",
    "\n",
    "<iframe src=\"https://giphy.com/embed/l5s71uAp3CzKwxwkoZ\" width=\"240\" height=\"200\" frameBorder=\"0\" class=\"giphy-embed\" allowFullScreen></iframe>\n",
    "\n",
    "```{note}\n",
    "Note that if you're using a local file path, the path should be relative to the location of the notebook or Markdown file that you're embedding the GIF in. If you're using a URL, it should be a direct link to the GIF file.\n",
    "```\n",
    "\n",
    "___"
   ]
  },
  {
   "attachments": {},
   "cell_type": "markdown",
   "id": "8654dd44",
   "metadata": {},
   "source": [
    "There are plenty of other datatypes you can add! This section is only a short introduction to the embedding of media."
   ]
  }
 ],
 "metadata": {
  "kernelspec": {
   "display_name": "Python 3",
   "language": "python",
   "name": "python3"
  },
  "language_info": {
   "name": "python",
   "version": "3.10.4"
  },
  "vscode": {
   "interpreter": {
    "hash": "d560ba8d507c54a01f2f7ed33b1ad7c3fc56f06723f11412b74cfa1ed27a6faa"
   }
  }
 },
 "nbformat": 4,
 "nbformat_minor": 5
}
