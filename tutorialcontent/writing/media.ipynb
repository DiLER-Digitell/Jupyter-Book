{
 "cells": [
  {
   "cell_type": "markdown",
   "id": "f47c6b0b",
   "metadata": {},
   "source": [
    "# Media: Images, Videos & More"
   ]
  },
  {
   "attachments": {},
   "cell_type": "markdown",
   "id": "3402e9db",
   "metadata": {},
   "source": [
    "## Images\n",
    "In MyST, there few different ways to include images. Here we will highlight the way that is most optimal for hosting the Book with our provided gh-actions script.\n",
    "\n",
    "The easiest way is to add the images to your projects in the static folder of your project. Once you push/ upload the project to your GitHub you essentially are hosting the images through their services.\n",
    "\n",
    "To add images in your Jupyter Book, use the following line of Markdown in a markdown cell:\n",
    "\n",
    "`![alternative_imagetext](https://YOURGITHUBNAME.github.io/PROJECTNAME/_static/FILENAME.png)`\n",
    "Resulting, for example, in:\n",
    "![alternative_imagetext](https://felixkoerber.github.io/jb/_static/logo.png)\n",
    "\n",
    "As you are able to use essentially any imagelink, you can add images that are hosted through other websites, too!\n",
    "\n",
    "If you want more control about the size, orientation and more, you can also use HTML following line of code:\n",
    "\n",
    "`<img src=\"(https://YOURGITHUBNAME.github.io/PROJECTNAME/_static/FILENAME.png\" alt=\"alternative_imagetext\" class=\"bg-primary mb-1\" width=\"200px\">`\n",
    "\n",
    "Since we have adjusted the image width, this results in a smaller image:\n",
    "\n",
    "\n",
    "<img src=\"https://felixkoerber.github.io/jb/_static/logo.png\" alt=\"logo\" class=\"bg-primary mb-1\" width=\"200px\">\n",
    "\n"
   ]
  },
  {
   "attachments": {},
   "cell_type": "markdown",
   "id": "4423c60d",
   "metadata": {},
   "source": [
    "## GIFs\n",
    "To implement GIFs in Jupyter Books, you can use the Markdown syntax for images and include the link to the GIF file. Here's an example:\n",
    "\n",
    "![Alt Text](link/to/your/gif/file.gif)\n",
    "\n",
    "Replace \"Alt Text\" with a description of your GIF and \"link/to/your/gif/file.gif\" with the URL or file path to your GIF.\n",
    "\n",
    "You can also use HTML to embed a GIF in Jupyter Books. Here's an example:\n",
    "\n",
    "\n",
    "<img src=\"link/to/your/gif/file.gif\"/>\n",
    "\n",
    "Again, replace \"link/to/your/gif/file.gif\" with the URL or file path to your GIF.\n",
    "\n",
    "Note that if you're using a local file path, the path should be relative to the location of the notebook or Markdown file that you're embedding the GIF in. If you're using a URL, it should be a direct link to the GIF file.\n",
    "\n",
    "Additionally, make sure that the GIF file is in a compatible format (e.g., .gif) and that it's located in a location that's accessible to your Jupyter Notebook or Jupyter Book.\n"
   ]
  },
  {
   "attachments": {},
   "cell_type": "markdown",
   "id": "f7d98ce1",
   "metadata": {},
   "source": [
    "## Google Slides\n",
    "\n",
    "To embed Google Slides in Jupyter Book, you can use an HTML iframe. Here's how:\n",
    "\n",
    "    Go to your Google Slides presentation and click on the \"Share\" button in the top-right corner of the screen.\n",
    "\n",
    "    Click on the \"Advanced\" link in the bottom-right corner of the sharing settings.\n",
    "\n",
    "    In the \"Who has access\" section, click on the drop-down menu and select \"On - Anyone with the link.\"\n",
    "\n",
    "    Copy the link that's provided.\n",
    "\n",
    "    Open your Jupyter Book and create a new Markdown cell where you want to embed the Google Slides presentation.\n",
    "\n",
    "    In the Markdown cell, create an HTML iframe with the following code:\n",
    "\n",
    "### css\n",
    "\n",
    "<iframe src=\"your-google-slides-link\" width=\"100%\" height=\"400px\"></iframe>\n",
    "\n",
    "Replace \"your-google-slides-link\" with the link you copied in step 4.\n",
    "\n",
    "    Save the Markdown cell and preview your Jupyter Book. You should now see the embedded Google Slides presentation.\n",
    "\n",
    "Note that the width and height of the iframe can be adjusted to fit your specific use case. You may also want to adjust the styling of the iframe to better match your Jupyter Book's visual design."
   ]
  }
 ],
 "metadata": {
  "kernelspec": {
   "display_name": "Python 3",
   "language": "python",
   "name": "python3"
  },
  "language_info": {
   "name": "python",
   "version": "3.10.4"
  },
  "vscode": {
   "interpreter": {
    "hash": "d560ba8d507c54a01f2f7ed33b1ad7c3fc56f06723f11412b74cfa1ed27a6faa"
   }
  }
 },
 "nbformat": 4,
 "nbformat_minor": 5
}
