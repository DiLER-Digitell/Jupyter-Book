{
 "cells": [
  {
   "cell_type": "markdown",
   "id": "75d153ed",
   "metadata": {},
   "source": [
    "# Creating automatically gradable coding assignments using nbgrader\n",
    "\n",
    "\n",
    "Grading assignments can feel like a time-comsuming chore. This is where automatic grading programns come in handy, although most grading solutions are constrained to a certain data format or costly.\n",
    "\n",
    "One free solution to this is [nbgrader](https://nbgrader.readthedocs.io/en/stable/), a tool to tool for creating and grading assignments in Jupyter notebooks. \n",
    "Nbgrader allows instructors to create assignments with coding exercises, written responses, and other types of questions, but mainly is focuesd on automatic grading of programming tasks. Written or free text responses will still have to be evaluated by hand. Nbgrader is therefore particularly useful for courses in statistics or data science.\n",
    "Unfortunately there is also no way of integrating nbgrader into this online course structure. If you plan on using nbgrader, you'd therefore need to send out and collect the assignments from your students via e-mail, discord etc.\n",
    "\n",
    "**For an introduction and demonstration of nbgrader’s core functionality, check out the Scipy 2017 talk by [Jessica Hamrick](http://www.jesshamrick.com/)**\n",
    "\n",
    "```<iframe src=\"https://www.youtube.com/embed/v=5WUm0QuJdFw\" style=\"border:0px #ffffff none;\" name=\"Nbgrader youtube talk=\"no\" frameborder=\"1\" marginheight=\"0px\" marginwidth=\"0px\" height=\"400px\" width=\"600px\" allowfullscreen></iframe>```\n",
    "\n",
    "\n",
    "There are two great **in-depth tutorials on how to create and grade assignments using nbgrader** out there. Do check them and their piloshopy out if you want to implement this approach in your work:\n",
    "\n",
    "- [Teaching with nbgrader (Collaborative Calculation and Data Science; cocalc)](https://doc.cocalc.com/teaching-nbgrader.html#)\n",
    "- [Nbgrader Docs](https://nbgrader.readthedocs.io/en/stable/index.html#)"
   ]
  }
 ],
 "metadata": {
  "kernelspec": {
   "display_name": "Python 3 (ipykernel)",
   "language": "python",
   "name": "python3"
  },
  "language_info": {
   "codemirror_mode": {
    "name": "ipython",
    "version": 3
   },
   "file_extension": ".py",
   "mimetype": "text/x-python",
   "name": "python",
   "nbconvert_exporter": "python",
   "pygments_lexer": "ipython3",
   "version": "3.7.6"
  }
 },
 "nbformat": 4,
 "nbformat_minor": 5
}
