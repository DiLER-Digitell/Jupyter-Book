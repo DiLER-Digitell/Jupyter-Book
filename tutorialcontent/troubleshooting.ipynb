{
 "cells": [
  {
   "attachments": {},
   "cell_type": "markdown",
   "id": "e8c1acb7",
   "metadata": {},
   "source": [
    "# **Troubleshooting**"
   ]
  },
  {
   "attachments": {},
   "cell_type": "markdown",
   "id": "5b7013ae",
   "metadata": {},
   "source": [
    "**Pow Pow**, troubles shot!"
   ]
  }
 ],
 "metadata": {
  "language_info": {
   "name": "python"
  }
 },
 "nbformat": 4,
 "nbformat_minor": 5
}
