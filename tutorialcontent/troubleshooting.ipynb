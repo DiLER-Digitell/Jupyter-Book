{
 "cells": [
  {
   "attachments": {},
   "cell_type": "markdown",
   "id": "e8c1acb7",
   "metadata": {},
   "source": [
    "# Troubleshooting"
   ]
  },
  {
   "attachments": {},
   "cell_type": "markdown",
   "id": "5b7013ae",
   "metadata": {},
   "source": [
    "**Pow Pow**, troubles shot!"
   ]
  }
 ],
 "metadata": {
  "kernelspec": {
   "display_name": "Python 3",
   "language": "python",
   "name": "python3"
  },
  "language_info": {
   "name": "python",
   "version": "3.10.4"
  },
  "vscode": {
   "interpreter": {
    "hash": "d560ba8d507c54a01f2f7ed33b1ad7c3fc56f06723f11412b74cfa1ed27a6faa"
   }
  }
 },
 "nbformat": 4,
 "nbformat_minor": 5
}
