{
 "cells": [
  {
   "attachments": {},
   "cell_type": "markdown",
   "id": "679c2cbb",
   "metadata": {},
   "source": [
    "# Create Content"
   ]
  },
  {
   "attachments": {},
   "cell_type": "markdown",
   "id": "a9a04687",
   "metadata": {},
   "source": [
    "**Jupyter Book** allows for the integration of various markup languages and formats, including Markdown files, Jupyter notebooks, MyST Markdown notebooks, reStructured Text and more."
   ]
  }
 ],
 "metadata": {
  "kernelspec": {
   "display_name": "Python 3",
   "language": "python",
   "name": "python3"
  },
  "language_info": {
   "name": "python",
   "version": "3.10.4 (tags/v3.10.4:9d38120, Mar 23 2022, 23:13:41) [MSC v.1929 64 bit (AMD64)]"
  },
  "vscode": {
   "interpreter": {
    "hash": "d560ba8d507c54a01f2f7ed33b1ad7c3fc56f06723f11412b74cfa1ed27a6faa"
   }
  }
 },
 "nbformat": 4,
 "nbformat_minor": 5
}
