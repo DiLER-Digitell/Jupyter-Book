{
 "cells": [
  {
   "cell_type": "markdown",
   "id": "19bec5e5",
   "metadata": {},
   "source": [
    "# Publishing: Getting the word out"
   ]
  },
  {
   "cell_type": "markdown",
   "id": "18d0219c",
   "metadata": {},
   "source": [
    "ToDo: Links and formatting\n",
    "\n",
    "_We believe that knowledge should be accessible to everyone and that the effort and time of people collecting and sharing knowledge is better spent on creating ressources that are open, free and at least somewhat constant. _\n",
    "\n",
    "\n",
    "An essential part of knowledge/sciene communication is reaching your target audience. In academia this is often constrained to a small group of students, the priviliged few that not only got admitted to university, but got further accepted into the courses that they actually want to take. This is of course an artifact of earlier times, were people were constrained to in-person teaching, with todays technology it is fairly easy to make your efforts accessible to the world, be it via a youtube lecture series or an online course, such as the one we're trying to create here. \n",
    "\n",
    "How long are students actually going to have access to the closed platform your university uses? How long are they going to carry around their notes or collectes lecture slides? Why carry around a set of slides for a lecture, adpating them semester for semester, year for year or spending hours training new hires to take over courses, when we can instead maintain a documented online presence that we can freely share? Why rely on our own on certain topics certainly limited knowledge, when we can invite experts in the field to contribute guest chapters to our courses?\n",
    "\n",
    "Furthermore, in academia/research we often times are judged on our output wether we like it or not. Creating an online-ressource is an easy way to share your work not only with the world, but also to contribute to your portfolio, with properly licensed content. Using tools like [Zenodo](https://zenodo.org/), you can further get a DOI, so that you're work may be properly cited in the future.\n",
    "\n",
    "\n",
    "The [following content block](link) will focus on how to leverage free tools to create such an online presence for your course. If you want to know more about, how to [structure](link) or [create content](link), check out the respective content blocks."
   ]
  }
 ],
 "metadata": {
  "kernelspec": {
   "display_name": "Python 3 (ipykernel)",
   "language": "python",
   "name": "python3"
  },
  "language_info": {
   "codemirror_mode": {
    "name": "ipython",
    "version": 3
   },
   "file_extension": ".py",
   "mimetype": "text/x-python",
   "name": "python",
   "nbconvert_exporter": "python",
   "pygments_lexer": "ipython3",
   "version": "3.7.6"
  }
 },
 "nbformat": 4,
 "nbformat_minor": 5
}
