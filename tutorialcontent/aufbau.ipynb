{
 "cells": [
  {
   "cell_type": "markdown",
   "id": "0bb5aa90",
   "metadata": {},
   "source": [
    "# Structuring Books"
   ]
  },
  {
   "attachments": {},
   "cell_type": "markdown",
   "id": "b461433b",
   "metadata": {},
   "source": [
    "The structure of your book is based on a YAML file called _toc.yml, which contains the *Table of Contents*.\n",
    "In the simplest form, the _toc.yml looks like this:\n",
    "\n",
    "<code>\n",
    "format: jb-book\n",
    "root: index\n",
    "chapters:\n",
    "- file: path/to/chapter1\n",
    "- file: path/to/chapter2\n",
    "  sections:\n",
    "  - file: path/to/chapter2/section1\n",
    "</code>"
   ]
  },
  {
   "attachments": {},
   "cell_type": "markdown",
   "id": "5bfbb825",
   "metadata": {},
   "source": [
    ">   **`format`**\n",
    "\n",
    "*Format* defines how the ToC will be interpreted. For many cases, `jb-book` will be the appropiate option. (other options and their usecases will be  described later.)"
   ]
  },
  {
   "cell_type": "markdown",
   "id": "1ee2108a",
   "metadata": {},
   "source": []
  },
  {
   "attachments": {},
   "cell_type": "markdown",
   "id": "54e11648",
   "metadata": {},
   "source": [
    ">   **`root`**\n",
    "*Root* defines the landing (aka first) page of your book. Paths that you define will be relative to the root."
   ]
  },
  {
   "attachments": {},
   "cell_type": "markdown",
   "id": "c0d6f08f",
   "metadata": {},
   "source": [
    ">   **`chapters`**\n",
    "Contains a list of files."
   ]
  },
  {
   "attachments": {},
   "cell_type": "markdown",
   "id": "939087d8",
   "metadata": {},
   "source": [
    ">   **`file`**\n",
    "Path to the files that you want to include in your book. All the paths are relative to the root."
   ]
  }
 ],
 "metadata": {
  "kernelspec": {
   "display_name": "Python 3",
   "language": "python",
   "name": "python3"
  },
  "language_info": {
   "codemirror_mode": {
    "name": "ipython",
    "version": 3
   },
   "file_extension": ".py",
   "mimetype": "text/x-python",
   "name": "python",
   "nbconvert_exporter": "python",
   "pygments_lexer": "ipython3",
   "version": "3.10.4"
  },
  "vscode": {
   "interpreter": {
    "hash": "d560ba8d507c54a01f2f7ed33b1ad7c3fc56f06723f11412b74cfa1ed27a6faa"
   }
  }
 },
 "nbformat": 4,
 "nbformat_minor": 5
}
